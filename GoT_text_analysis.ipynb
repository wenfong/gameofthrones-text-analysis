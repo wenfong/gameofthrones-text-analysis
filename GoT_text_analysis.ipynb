{
 "cells": [
  {
   "cell_type": "code",
   "execution_count": 15,
   "metadata": {},
   "outputs": [],
   "source": [
    "import string\n",
    "import pandas as pd\n",
    "import io"
   ]
  },
  {
   "cell_type": "markdown",
   "metadata": {},
   "source": [
    "## Data Preparation"
   ]
  },
  {
   "cell_type": "code",
   "execution_count": 28,
   "metadata": {},
   "outputs": [
    {
     "data": {
      "text/plain": [
       "u'PROLOGUE\\n\\nThe comet\\u2019s tail spread across the dawn, a red slash that bled above the crags of Dragonstone like a wound in the pink and purple sky.\\n\\nThe maester stood on the windswept balcony outside his chambers. It was here the ravens came, after long flight. Their droppings speckled the gargoyles that rose twelve feet tall on either side of him, a hellhound and a wyvern, two of the thousand that brooded over the walls of the ancient fortress. When first he came to Dragonstone, the army of stone grotesques had made him uneasy, but as the years passed he had grown used to them. Now he thought of them as old friends. The three of them watched the sky together with foreboding.\\n\\nThe maester did not believe in omens. And yet . . . old as he was, Cressen had never seen a comet half so bright, nor yet that color, that terrible color, the color of blood and flame and sunsets. He wondered if his gargoyles had ever seen its like. They had been here so much longer than he had, and would still be here long after he was gone. If stone tongues could speak . . .\\n\\nSuch folly. He leaned against the battlement, the sea crashing beneath him, the black stone rough beneath his fingers. Talking gargoyles and prophecies in the sky. I am an old done man, grown giddy as a child again. Had a lifetime\\u2019s hard-won wisdom fled him along with his health and strength? He was a maester, trained and chained in the great Citadel of Oldtown. What had he come to, when superstition filled his head as if he were an ignorant fieldhand?\\n\\nAnd yet . . . and yet . . . the comet burned even by day now, while pale grey steam rose from the hot vents of Dragonmont behind the castle, and yestermorn a white raven had brought word from the Citadel itself, word long-expected but no less fearful for all that, word of summer\\u2019s end. Omens, all. Too many to deny. What does it all mean? he wanted to cry.\\n\\n\\u201cMaester Cressen, we have visitors.\\u201d Pylos spoke softly, as if loath to disturb Cressen\\u2019s solemn meditations. Had he known what drivel filled his head, he would have shouted. \\u201cThe princess would see the white raven.\\u201d Ever correct, Pylos called her princess now, as her lord father was a king. King of a smoking rock in the great salt sea, yet a king nonetheless. \\u201cHer fool is with her.\\u201d\\n\\nThe old man turned away from the dawn, keeping a hand on his wyvern to steady himself. \\u201cHelp me to my chair and show them in.\\u201d\\n\\nTaking his arm, Pylos led him inside. In his youth, Cressen had walked briskly, but he was not far from his eightieth name day now, and his legs were frail and unsteady. Two years past, he had fallen and shattered a hip, and it had never mended properly. Last year when he took ill, the Citadel had sent Pylos out from Oldtown, mere days before Lord Stannis had closed the isle . . . to help him in his labors, it was said, but Cressen knew the truth. Pylos had come to replace him when he died. He did not mind. Someone must take his place, and sooner than he would like . . .\\n\\nHe let the younger man s'"
      ]
     },
     "execution_count": 28,
     "metadata": {},
     "output_type": "execute_result"
    }
   ],
   "source": [
    "files = ['got1.txt', 'got2.txt', 'got3.txt', 'got4.txt']\n",
    "#See what the text looks like\n",
    "io.open(files[0], 'r', encoding='UTF-8').read()[:3000]"
   ]
  },
  {
   "cell_type": "markdown",
   "metadata": {},
   "source": [
    "There are special unicode characters such as \\u2019,\\u201d,\\u201c which should seem to be apostrophes or opening/closing quotations. There are also extra \"\\n\" which should be removed.\n",
    "The following code cleans the text as well as splits the text into lines. The result is a list of four lists of lines."
   ]
  },
  {
   "cell_type": "code",
   "execution_count": 29,
   "metadata": {},
   "outputs": [],
   "source": [
    "def read_file(file):\n",
    "\n",
    "    with io.open(file, 'r', encoding='UTF-8') as f:\n",
    "        lines = (line.rstrip() for line in f) \n",
    "        lines = list(line for line in lines if line)\n",
    "        lines = [i.replace(u\"\\u201c\", \"'\").replace(u\"\\u201d\", \"'\").replace(u\"\\u2019\", \"'\") \n",
    "                 for i in lines if i != \"\" and i != \"''\"]\n",
    "    return lines\n",
    "\n",
    "    \n",
    "#4 lists of list of lines (4 books)\n",
    "text_list = []\n",
    "for f in files:\n",
    "    text_list.append(read_file(f))"
   ]
  },
  {
   "cell_type": "code",
   "execution_count": 30,
   "metadata": {},
   "outputs": [
    {
     "data": {
      "text/plain": [
       "[u'PROLOGUE',\n",
       " u\"The comet's tail spread across the dawn, a red slash that bled above the crags of Dragonstone like a wound in the pink and purple sky.\",\n",
       " u'The maester stood on the windswept balcony outside his chambers. It was here the ravens came, after long flight. Their droppings speckled the gargoyles that rose twelve feet tall on either side of him, a hellhound and a wyvern, two of the thousand that brooded over the walls of the ancient fortress. When first he came to Dragonstone, the army of stone grotesques had made him uneasy, but as the years passed he had grown used to them. Now he thought of them as old friends. The three of them watched the sky together with foreboding.',\n",
       " u'The maester did not believe in omens. And yet . . . old as he was, Cressen had never seen a comet half so bright, nor yet that color, that terrible color, the color of blood and flame and sunsets. He wondered if his gargoyles had ever seen its like. They had been here so much longer than he had, and would still be here long after he was gone. If stone tongues could speak . . .',\n",
       " u\"Such folly. He leaned against the battlement, the sea crashing beneath him, the black stone rough beneath his fingers. Talking gargoyles and prophecies in the sky. I am an old done man, grown giddy as a child again. Had a lifetime's hard-won wisdom fled him along with his health and strength? He was a maester, trained and chained in the great Citadel of Oldtown. What had he come to, when superstition filled his head as if he were an ignorant fieldhand?\",\n",
       " u\"And yet . . . and yet . . . the comet burned even by day now, while pale grey steam rose from the hot vents of Dragonmont behind the castle, and yestermorn a white raven had brought word from the Citadel itself, word long-expected but no less fearful for all that, word of summer's end. Omens, all. Too many to deny. What does it all mean? he wanted to cry.\",\n",
       " u\"'Maester Cressen, we have visitors.' Pylos spoke softly, as if loath to disturb Cressen's solemn meditations. Had he known what drivel filled his head, he would have shouted. 'The princess would see the white raven.' Ever correct, Pylos called her princess now, as her lord father was a king. King of a smoking rock in the great salt sea, yet a king nonetheless. 'Her fool is with her.'\",\n",
       " u\"The old man turned away from the dawn, keeping a hand on his wyvern to steady himself. 'Help me to my chair and show them in.'\",\n",
       " u'Taking his arm, Pylos led him inside. In his youth, Cressen had walked briskly, but he was not far from his eightieth name day now, and his legs were frail and unsteady. Two years past, he had fallen and shattered a hip, and it had never mended properly. Last year when he took ill, the Citadel had sent Pylos out from Oldtown, mere days before Lord Stannis had closed the isle . . . to help him in his labors, it was said, but Cressen knew the truth. Pylos had come to replace him when he died. He did not mind. Someone must take his place, and sooner than he would like . . .',\n",
       " u\"He let the younger man settle him behind his books and papers. 'Go bring her. It is ill to keep a lady waiting.' He waved a hand, a feeble gesture of haste from a man no longer capable of hastening. His flesh was wrinkled and spotted, the skin so papery thin that he could see the web of veins and the shape of bones beneath. And how they trembled, these hands of his that had once been so sure and deft . . .\"]"
      ]
     },
     "execution_count": 30,
     "metadata": {},
     "output_type": "execute_result"
    }
   ],
   "source": [
    "text_list[0][:10]"
   ]
  },
  {
   "cell_type": "markdown",
   "metadata": {},
   "source": [
    "# Character Occurrences"
   ]
  },
  {
   "cell_type": "code",
   "execution_count": 33,
   "metadata": {},
   "outputs": [],
   "source": [
    "def get_main_characters(text):\n",
    "    #Since each chapter is titled with one of the main character's name, it makes sense to find all lines with exactly one item\n",
    "    singlewords = [line for line in text if len(line.split()) == 1]\n",
    "    \n",
    "    #filter out all the words with punctuation as those are not names\n",
    "    for word in singlewords:\n",
    "        for j in word:\n",
    "            if j in string.punctuation:\n",
    "                singlewords.remove(word)\n",
    "                break\n",
    "\n",
    "    #there are still some words with punctuation in them that somehow passed the filter as well as duplicates\n",
    "    #adding counts to the unique words can help with identifying names\n",
    "    words_count= {}\n",
    "    for word in singlewords:\n",
    "        if word in words_count:\n",
    "            words_count[word] += 1\n",
    "        else:\n",
    "            words_count[word] = 0\n",
    "    \n",
    "    #words with count > 2 are most likely names as each character most likely has more than 2 chapters\n",
    "    characters = [word for word, count in words_count.items() if count > 2]\n",
    "    \n",
    "    return characters"
   ]
  },
  {
   "cell_type": "markdown",
   "metadata": {},
   "source": [
    "Get unique list of main characters"
   ]
  },
  {
   "cell_type": "code",
   "execution_count": 34,
   "metadata": {},
   "outputs": [
    {
     "data": {
      "text/plain": [
       "[u'DAVOS',\n",
       " u'THEON',\n",
       " u'BRIENNE',\n",
       " u'SAMWELL',\n",
       " u'SANSA',\n",
       " u'CERSEI',\n",
       " u'JAIME',\n",
       " u'CATELYN',\n",
       " u'TYRION',\n",
       " u'DAENERYS',\n",
       " u'ARYA',\n",
       " u'BRAN',\n",
       " u'JON']"
      ]
     },
     "execution_count": 34,
     "metadata": {},
     "output_type": "execute_result"
    }
   ],
   "source": [
    "character_list = list(set(get_main_characters(text_list[0]) + get_main_characters(text_list[1])+\n",
    "                              get_main_characters(text_list[2]) + get_main_characters(text_list[3])))\n",
    "                              \n",
    "character_list"
   ]
  },
  {
   "cell_type": "code",
   "execution_count": 36,
   "metadata": {},
   "outputs": [
    {
     "data": {
      "text/plain": [
       "[u'PROLOGUE',\n",
       " u'The',\n",
       " u\"comet's\",\n",
       " u'tail',\n",
       " u'spread',\n",
       " u'across',\n",
       " u'the',\n",
       " u'dawn,',\n",
       " u'a',\n",
       " u'red',\n",
       " u'slash',\n",
       " u'that',\n",
       " u'bled',\n",
       " u'above',\n",
       " u'the']"
      ]
     },
     "execution_count": 36,
     "metadata": {},
     "output_type": "execute_result"
    }
   ],
   "source": [
    "#4 lists of text (4 books)\n",
    "text_line = [' '.join(line) for line in text_list]\n",
    "#4 lists of tokenized text\n",
    "text_token = [line.split() for line in text_line]\n",
    "text_token[0][:15]"
   ]
  },
  {
   "cell_type": "code",
   "execution_count": 40,
   "metadata": {},
   "outputs": [
    {
     "data": {
      "text/plain": [
       "{u'ARYA': 1186,\n",
       " u'BRAN': 1224,\n",
       " u'BRIENNE': 723,\n",
       " u'CATELYN': 628,\n",
       " u'CERSEI': 1084,\n",
       " u'DAENERYS': 288,\n",
       " u'DAVOS': 688,\n",
       " u'JAIME': 1417,\n",
       " u'JON': 2429,\n",
       " u'SAMWELL': 62,\n",
       " u'SANSA': 974,\n",
       " u'THEON': 931,\n",
       " u'TYRION': 2065}"
      ]
     },
     "execution_count": 40,
     "metadata": {},
     "output_type": "execute_result"
    }
   ],
   "source": [
    "df = pd.DataFrame(columns=['Character', 'Book', 'Offset'])\n",
    "\n",
    "num_occurrences = {character:0 for character in character_list}\n",
    "for book in range(len(text_token)):\n",
    "    for character in character_list:\n",
    "        for offset in range(len(text_token[book])):\n",
    "            if character.lower() in text_token[book][offset].lower():\n",
    "                df = df.append(pd.Series([character, book, offset], index=df.columns), ignore_index=True)\n",
    "                num_occurrences[character] += 1\n",
    "                \n",
    "num_occurrences"
   ]
  },
  {
   "cell_type": "markdown",
   "metadata": {},
   "source": [
    "Characters that don't go by their full name don't show up as much as they should(eg. DANY, SAM). "
   ]
  }
 ],
 "metadata": {
  "kernelspec": {
   "display_name": "Python 2",
   "language": "python",
   "name": "python2"
  },
  "language_info": {
   "codemirror_mode": {
    "name": "ipython",
    "version": 2
   },
   "file_extension": ".py",
   "mimetype": "text/x-python",
   "name": "python",
   "nbconvert_exporter": "python",
   "pygments_lexer": "ipython2",
   "version": "2.7.17"
  }
 },
 "nbformat": 4,
 "nbformat_minor": 2
}
